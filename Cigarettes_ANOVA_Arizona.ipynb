{
 "cells": [
  {
   "cell_type": "code",
   "execution_count": 1,
   "metadata": {},
   "outputs": [],
   "source": [
    "import warnings\n",
    "warnings.filterwarnings('ignore')"
   ]
  },
  {
   "cell_type": "code",
   "execution_count": 2,
   "metadata": {},
   "outputs": [],
   "source": [
    "%matplotlib inline\n",
    "import pandas as pd\n",
    "import scipy.stats as stats"
   ]
  },
  {
   "cell_type": "code",
   "execution_count": 3,
   "metadata": {},
   "outputs": [
    {
     "data": {
      "text/html": [
       "<div>\n",
       "<style scoped>\n",
       "    .dataframe tbody tr th:only-of-type {\n",
       "        vertical-align: middle;\n",
       "    }\n",
       "\n",
       "    .dataframe tbody tr th {\n",
       "        vertical-align: top;\n",
       "    }\n",
       "\n",
       "    .dataframe thead th {\n",
       "        text-align: right;\n",
       "    }\n",
       "</style>\n",
       "<table border=\"1\" class=\"dataframe\">\n",
       "  <thead>\n",
       "    <tr style=\"text-align: right;\">\n",
       "      <th></th>\n",
       "      <th>County</th>\n",
       "      <th>Cigarette_Usage_by_grade</th>\n",
       "    </tr>\n",
       "  </thead>\n",
       "  <tbody>\n",
       "    <tr>\n",
       "      <th>0</th>\n",
       "      <td>Apache</td>\n",
       "      <td>904</td>\n",
       "    </tr>\n",
       "    <tr>\n",
       "      <th>1</th>\n",
       "      <td>Apache</td>\n",
       "      <td>827</td>\n",
       "    </tr>\n",
       "    <tr>\n",
       "      <th>2</th>\n",
       "      <td>Apache</td>\n",
       "      <td>846</td>\n",
       "    </tr>\n",
       "    <tr>\n",
       "      <th>3</th>\n",
       "      <td>Cochise</td>\n",
       "      <td>1450</td>\n",
       "    </tr>\n",
       "    <tr>\n",
       "      <th>4</th>\n",
       "      <td>Cochise</td>\n",
       "      <td>1579</td>\n",
       "    </tr>\n",
       "  </tbody>\n",
       "</table>\n",
       "</div>"
      ],
      "text/plain": [
       "    County  Cigarette_Usage_by_grade\n",
       "0   Apache                       904\n",
       "1   Apache                       827\n",
       "2   Apache                       846\n",
       "3  Cochise                      1450\n",
       "4  Cochise                      1579"
      ]
     },
     "execution_count": 3,
     "metadata": {},
     "output_type": "execute_result"
    }
   ],
   "source": [
    "# Cigarettes data for Arizona from \"HS_county_2017_for_ANOVA.ipynb\"\n",
    "# Transposed 8th, 10th and 12th grade cigarette use data by county\n",
    "df = pd.read_csv(\"AZ_8_10_12_2017_county_grade.csv\")\n",
    "df.head()"
   ]
  },
  {
   "cell_type": "code",
   "execution_count": 4,
   "metadata": {},
   "outputs": [
    {
     "data": {
      "text/plain": [
       "<matplotlib.axes._subplots.AxesSubplot at 0x1a21d21d68>"
      ]
     },
     "execution_count": 4,
     "metadata": {},
     "output_type": "execute_result"
    },
    {
     "data": {
      "image/png": "[encoded data removed]",
      "text/plain": [
       "<Figure size 1440x720 with 1 Axes>"
      ]
     },
     "metadata": {
      "needs_background": "light"
     },
     "output_type": "display_data"
    }
   ],
   "source": [
    "# Create a boxplot to compare means\n",
    "df.boxplot(\"Cigarette_Usage_by_grade\", by=\"County\", figsize=(20, 10))"
   ]
  },
  {
   "cell_type": "code",
   "execution_count": 7,
   "metadata": {},
   "outputs": [],
   "source": [
    "# Extract individual groups\n",
    "group1 = df[df[\"County\"] == 'Apache'][\"Cigarette_Usage_by_grade\"]\n",
    "group2 = df[df[\"County\"] == 'Cochise'][\"Cigarette_Usage_by_grade\"]\n",
    "group3 = df[df[\"County\"] == 'Coconino'][\"Cigarette_Usage_by_grade\"]\n",
    "group4 = df[df[\"County\"] == 'Gila'][\"Cigarette_Usage_by_grade\"]\n",
    "group5 = df[df[\"County\"] == 'Graham'][\"Cigarette_Usage_by_grade\"]\n",
    "group6 = df[df[\"County\"] == 'Greenlee'][\"Cigarette_Usage_by_grade\"]\n",
    "group7 = df[df[\"County\"] == 'La Paz'][\"Cigarette_Usage_by_grade\"]\n",
    "group8 = df[df[\"County\"] == 'Maricopa'][\"Cigarette_Usage_by_grade\"]\n",
    "group9 = df[df[\"County\"] == 'Mohave'][\"Cigarette_Usage_by_grade\"]\n",
    "group10 = df[df[\"County\"] == 'Navajo'][\"Cigarette_Usage_by_grade\"]\n",
    "group11 = df[df[\"County\"] == 'Pima'][\"Cigarette_Usage_by_grade\"]\n",
    "group12 = df[df[\"County\"] == 'Pinal'][\"Cigarette_Usage_by_grade\"]\n",
    "group13 = df[df[\"County\"] == 'Santa Cruz'][\"Cigarette_Usage_by_grade\"]\n",
    "group14 = df[df[\"County\"] == 'Yavapai'][\"Cigarette_Usage_by_grade\"]\n",
    "group15 = df[df[\"County\"] == 'Yuma'][\"Cigarette_Usage_by_grade\"]"
   ]
  },
  {
   "cell_type": "code",
   "execution_count": 8,
   "metadata": {},
   "outputs": [
    {
     "data": {
      "text/plain": [
       "F_onewayResult(statistic=12436.67624269034, pvalue=1.8936596922552035e-52)"
      ]
     },
     "execution_count": 8,
     "metadata": {},
     "output_type": "execute_result"
    }
   ],
   "source": [
    "# Perform the ANOVA\n",
    "stats.f_oneway(group1, group2, group3,group4,group5,group6,group7,group8,group9,group10,group11,group12,group13,group14,group15)"
   ]
  },
  {
   "cell_type": "code",
   "execution_count": null,
   "metadata": {},
   "outputs": [],
   "source": []
  }
 ],
 "metadata": {
  "anaconda-cloud": {},
  "kernelspec": {
   "display_name": "Python 3",
   "language": "python",
   "name": "python3"
  },
  "language_info": {
   "codemirror_mode": {
    "name": "ipython",
    "version": 3
   },
   "file_extension": ".py",
   "mimetype": "text/x-python",
   "name": "python",
   "nbconvert_exporter": "python",
   "pygments_lexer": "ipython3",
   "version": "3.7.3"
  },
  "varInspector": {
   "cols": {
    "lenName": 16,
    "lenType": 16,
    "lenVar": 40
   },
   "kernels_config": {
    "python": {
     "delete_cmd_postfix": "",
     "delete_cmd_prefix": "del ",
     "library": "var_list.py",
     "varRefreshCmd": "print(var_dic_list())"
    },
    "r": {
     "delete_cmd_postfix": ") ",
     "delete_cmd_prefix": "rm(",
     "library": "var_list.r",
     "varRefreshCmd": "cat(var_dic_list()) "
    }
   },
   "types_to_exclude": [
    "module",
    "function",
    "builtin_function_or_method",
    "instance",
    "_Feature"
   ],
   "window_display": false
  }
 },
 "nbformat": 4,
 "nbformat_minor": 1
}
