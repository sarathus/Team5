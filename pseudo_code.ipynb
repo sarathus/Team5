{
 "cells": [
  {
   "cell_type": "markdown",
   "metadata": {},
   "source": [
    "### Prescription Drugs Affecting School Students - Team 5"
   ]
  },
  {
   "cell_type": "code",
   "execution_count": 1,
   "metadata": {},
   "outputs": [],
   "source": [
    "import pandas as pd\n",
    "import numpy as np\n",
    "import requests\n",
    "import matplotlib.pyplot as plt"
   ]
  },
  {
   "cell_type": "markdown",
   "metadata": {},
   "source": [
    "### READ DATA"
   ]
  },
  {
   "cell_type": "code",
   "execution_count": 2,
   "metadata": {},
   "outputs": [],
   "source": [
    "# Table data with substannce abuse by demographics (age, sex and race)\n",
    "df = pd.read_csv('table051_reduced.csv', encoding=\"UTF-8\")\n",
    "# Data with accidental death by demographics\n",
    "df1 = pd.read_csv('AcciDrugRelatedDeaths2012to18.csv', encoding='UTF-8')"
   ]
  },
  {
   "cell_type": "markdown",
   "metadata": {},
   "source": [
    "### DATA MERGING"
   ]
  },
  {
   "cell_type": "code",
   "execution_count": 3,
   "metadata": {},
   "outputs": [
    {
     "data": {
      "text/html": [
       "<div>\n",
       "<style scoped>\n",
       "    .dataframe tbody tr th:only-of-type {\n",
       "        vertical-align: middle;\n",
       "    }\n",
       "\n",
       "    .dataframe tbody tr th {\n",
       "        vertical-align: top;\n",
       "    }\n",
       "\n",
       "    .dataframe thead th {\n",
       "        text-align: right;\n",
       "    }\n",
       "</style>\n",
       "<table border=\"1\" class=\"dataframe\">\n",
       "  <thead>\n",
       "    <tr style=\"text-align: right;\">\n",
       "      <th></th>\n",
       "      <th>grade in school, sex, and race</th>\n",
       "      <th>Substance</th>\n",
       "      <th>1980</th>\n",
       "      <th>1981</th>\n",
       "      <th>1982</th>\n",
       "      <th>1983</th>\n",
       "      <th>1984</th>\n",
       "      <th>1985</th>\n",
       "      <th>1986</th>\n",
       "      <th>1987</th>\n",
       "      <th>...</th>\n",
       "      <th>2007</th>\n",
       "      <th>2008</th>\n",
       "      <th>2009</th>\n",
       "      <th>2010</th>\n",
       "      <th>2011</th>\n",
       "      <th>2012</th>\n",
       "      <th>2013</th>\n",
       "      <th>2014</th>\n",
       "      <th>2015</th>\n",
       "      <th>2016</th>\n",
       "    </tr>\n",
       "  </thead>\n",
       "  <tbody>\n",
       "    <tr>\n",
       "      <th>0</th>\n",
       "      <td>All 12th graders</td>\n",
       "      <td>Cigarettes</td>\n",
       "      <td>30.5</td>\n",
       "      <td>29.4</td>\n",
       "      <td>30.0</td>\n",
       "      <td>30.3</td>\n",
       "      <td>29.3</td>\n",
       "      <td>30.1</td>\n",
       "      <td>29.6</td>\n",
       "      <td>29.4</td>\n",
       "      <td>...</td>\n",
       "      <td>21.6</td>\n",
       "      <td>20.4</td>\n",
       "      <td>20.1</td>\n",
       "      <td>19.2</td>\n",
       "      <td>18.7</td>\n",
       "      <td>17.1</td>\n",
       "      <td>16.3</td>\n",
       "      <td>13.6</td>\n",
       "      <td>11.4</td>\n",
       "      <td>10.5</td>\n",
       "    </tr>\n",
       "    <tr>\n",
       "      <th>1</th>\n",
       "      <td>Male</td>\n",
       "      <td>Cigarettes</td>\n",
       "      <td>26.8</td>\n",
       "      <td>26.5</td>\n",
       "      <td>26.8</td>\n",
       "      <td>28.0</td>\n",
       "      <td>25.9</td>\n",
       "      <td>28.2</td>\n",
       "      <td>27.9</td>\n",
       "      <td>27.0</td>\n",
       "      <td>...</td>\n",
       "      <td>23.1</td>\n",
       "      <td>21.5</td>\n",
       "      <td>22.1</td>\n",
       "      <td>21.9</td>\n",
       "      <td>21.5</td>\n",
       "      <td>19.3</td>\n",
       "      <td>18.4</td>\n",
       "      <td>15.2</td>\n",
       "      <td>13.0</td>\n",
       "      <td>12.7</td>\n",
       "    </tr>\n",
       "    <tr>\n",
       "      <th>2</th>\n",
       "      <td>Female</td>\n",
       "      <td>Cigarettes</td>\n",
       "      <td>33.4</td>\n",
       "      <td>31.6</td>\n",
       "      <td>32.6</td>\n",
       "      <td>31.6</td>\n",
       "      <td>31.9</td>\n",
       "      <td>31.4</td>\n",
       "      <td>30.6</td>\n",
       "      <td>31.4</td>\n",
       "      <td>...</td>\n",
       "      <td>19.6</td>\n",
       "      <td>19.1</td>\n",
       "      <td>17.6</td>\n",
       "      <td>15.7</td>\n",
       "      <td>15.1</td>\n",
       "      <td>14.5</td>\n",
       "      <td>13.2</td>\n",
       "      <td>11.6</td>\n",
       "      <td>9.1</td>\n",
       "      <td>8.1</td>\n",
       "    </tr>\n",
       "    <tr>\n",
       "      <th>3</th>\n",
       "      <td>White</td>\n",
       "      <td>Cigarettes</td>\n",
       "      <td>31.0</td>\n",
       "      <td>30.1</td>\n",
       "      <td>31.3</td>\n",
       "      <td>31.3</td>\n",
       "      <td>31.0</td>\n",
       "      <td>31.7</td>\n",
       "      <td>32.0</td>\n",
       "      <td>32.2</td>\n",
       "      <td>...</td>\n",
       "      <td>25.2</td>\n",
       "      <td>24.1</td>\n",
       "      <td>23.7</td>\n",
       "      <td>22.2</td>\n",
       "      <td>22.2</td>\n",
       "      <td>20.1</td>\n",
       "      <td>18.5</td>\n",
       "      <td>16.5</td>\n",
       "      <td>13.4</td>\n",
       "      <td>13.0</td>\n",
       "    </tr>\n",
       "    <tr>\n",
       "      <th>4</th>\n",
       "      <td>Black or African American</td>\n",
       "      <td>Cigarettes</td>\n",
       "      <td>25.2</td>\n",
       "      <td>22.3</td>\n",
       "      <td>21.2</td>\n",
       "      <td>21.2</td>\n",
       "      <td>17.6</td>\n",
       "      <td>18.7</td>\n",
       "      <td>14.6</td>\n",
       "      <td>13.9</td>\n",
       "      <td>...</td>\n",
       "      <td>10.6</td>\n",
       "      <td>10.1</td>\n",
       "      <td>9.3</td>\n",
       "      <td>10.7</td>\n",
       "      <td>8.7</td>\n",
       "      <td>8.4</td>\n",
       "      <td>10.8</td>\n",
       "      <td>7.5</td>\n",
       "      <td>6.4</td>\n",
       "      <td>5.5</td>\n",
       "    </tr>\n",
       "  </tbody>\n",
       "</table>\n",
       "<p>5 rows × 39 columns</p>\n",
       "</div>"
      ],
      "text/plain": [
       "  grade in school, sex, and race   Substance   1980   1981   1982   1983  \\\n",
       "0               All 12th graders  Cigarettes  30.5   29.4   30.0   30.3    \n",
       "1                           Male  Cigarettes  26.8   26.5   26.8   28.0    \n",
       "2                         Female  Cigarettes  33.4   31.6   32.6   31.6    \n",
       "3                          White  Cigarettes  31.0   30.1   31.3   31.3    \n",
       "4      Black or African American  Cigarettes  25.2   22.3   21.2   21.2    \n",
       "\n",
       "    1984   1985   1986   1987  ...  2007  2008  2009  2010  2011  2012  2013  \\\n",
       "0  29.3   30.1   29.6   29.4   ...  21.6  20.4  20.1  19.2  18.7  17.1  16.3   \n",
       "1  25.9   28.2   27.9   27.0   ...  23.1  21.5  22.1  21.9  21.5  19.3  18.4   \n",
       "2  31.9   31.4   30.6   31.4   ...  19.6  19.1  17.6  15.7  15.1  14.5  13.2   \n",
       "3  31.0   31.7   32.0   32.2   ...  25.2  24.1  23.7  22.2  22.2  20.1  18.5   \n",
       "4  17.6   18.7   14.6   13.9   ...  10.6  10.1   9.3  10.7   8.7   8.4  10.8   \n",
       "\n",
       "   2014  2015  2016  \n",
       "0  13.6  11.4  10.5  \n",
       "1  15.2  13.0  12.7  \n",
       "2  11.6   9.1   8.1  \n",
       "3  16.5  13.4  13.0  \n",
       "4   7.5   6.4   5.5  \n",
       "\n",
       "[5 rows x 39 columns]"
      ]
     },
     "execution_count": 3,
     "metadata": {},
     "output_type": "execute_result"
    }
   ],
   "source": [
    "df.head()"
   ]
  },
  {
   "cell_type": "code",
   "execution_count": 4,
   "metadata": {},
   "outputs": [],
   "source": [
    "# Added one more code line to rename\n",
    "df.rename({'grade in school, sex, and race': 'demography'}, axis=1, inplace=True)"
   ]
  },
  {
   "cell_type": "code",
   "execution_count": 5,
   "metadata": {},
   "outputs": [
    {
     "data": {
      "text/html": [
       "<div>\n",
       "<style scoped>\n",
       "    .dataframe tbody tr th:only-of-type {\n",
       "        vertical-align: middle;\n",
       "    }\n",
       "\n",
       "    .dataframe tbody tr th {\n",
       "        vertical-align: top;\n",
       "    }\n",
       "\n",
       "    .dataframe thead th {\n",
       "        text-align: right;\n",
       "    }\n",
       "</style>\n",
       "<table border=\"1\" class=\"dataframe\">\n",
       "  <thead>\n",
       "    <tr style=\"text-align: right;\">\n",
       "      <th></th>\n",
       "      <th>demography</th>\n",
       "      <th>Substance</th>\n",
       "      <th>2016</th>\n",
       "    </tr>\n",
       "  </thead>\n",
       "  <tbody>\n",
       "    <tr>\n",
       "      <th>0</th>\n",
       "      <td>All 12th graders</td>\n",
       "      <td>Cigarettes</td>\n",
       "      <td>10.5</td>\n",
       "    </tr>\n",
       "    <tr>\n",
       "      <th>1</th>\n",
       "      <td>Male</td>\n",
       "      <td>Cigarettes</td>\n",
       "      <td>12.7</td>\n",
       "    </tr>\n",
       "    <tr>\n",
       "      <th>2</th>\n",
       "      <td>Female</td>\n",
       "      <td>Cigarettes</td>\n",
       "      <td>8.1</td>\n",
       "    </tr>\n",
       "    <tr>\n",
       "      <th>3</th>\n",
       "      <td>White</td>\n",
       "      <td>Cigarettes</td>\n",
       "      <td>13.0</td>\n",
       "    </tr>\n",
       "    <tr>\n",
       "      <th>4</th>\n",
       "      <td>Black or African American</td>\n",
       "      <td>Cigarettes</td>\n",
       "      <td>5.5</td>\n",
       "    </tr>\n",
       "  </tbody>\n",
       "</table>\n",
       "</div>"
      ],
      "text/plain": [
       "                  demography   Substance  2016\n",
       "0           All 12th graders  Cigarettes  10.5\n",
       "1                       Male  Cigarettes  12.7\n",
       "2                     Female  Cigarettes   8.1\n",
       "3                      White  Cigarettes  13.0\n",
       "4  Black or African American  Cigarettes   5.5"
      ]
     },
     "execution_count": 5,
     "metadata": {},
     "output_type": "execute_result"
    }
   ],
   "source": [
    "#drop_df = df.dropna(how='any')\n",
    "group_test = df[['demography','Substance','2016']]\n",
    "group_test.head()"
   ]
  },
  {
   "cell_type": "code",
   "execution_count": 6,
   "metadata": {},
   "outputs": [
    {
     "data": {
      "text/html": [
       "<div>\n",
       "<style scoped>\n",
       "    .dataframe tbody tr th:only-of-type {\n",
       "        vertical-align: middle;\n",
       "    }\n",
       "\n",
       "    .dataframe tbody tr th {\n",
       "        vertical-align: top;\n",
       "    }\n",
       "\n",
       "    .dataframe thead th {\n",
       "        text-align: right;\n",
       "    }\n",
       "</style>\n",
       "<table border=\"1\" class=\"dataframe\">\n",
       "  <thead>\n",
       "    <tr style=\"text-align: right;\">\n",
       "      <th>Substance</th>\n",
       "      <th>Alcohol2/</th>\n",
       "      <th>Binge drinking3/</th>\n",
       "      <th>Cigarettes</th>\n",
       "      <th>Cocaine</th>\n",
       "      <th>E-cigarettes</th>\n",
       "      <th>Inhalants</th>\n",
       "      <th>MDMA (Ecstasy)1/</th>\n",
       "      <th>Marijuana</th>\n",
       "    </tr>\n",
       "    <tr>\n",
       "      <th>demography</th>\n",
       "      <th></th>\n",
       "      <th></th>\n",
       "      <th></th>\n",
       "      <th></th>\n",
       "      <th></th>\n",
       "      <th></th>\n",
       "      <th></th>\n",
       "      <th></th>\n",
       "    </tr>\n",
       "  </thead>\n",
       "  <tbody>\n",
       "    <tr>\n",
       "      <th>All 10th graders</th>\n",
       "      <td>19.9</td>\n",
       "      <td>9.7</td>\n",
       "      <td>4.9</td>\n",
       "      <td>0.4</td>\n",
       "      <td>10.3</td>\n",
       "      <td>1.0</td>\n",
       "      <td>0.5</td>\n",
       "      <td>14.0</td>\n",
       "    </tr>\n",
       "    <tr>\n",
       "      <th>All 12th graders</th>\n",
       "      <td>33.2</td>\n",
       "      <td>15.5</td>\n",
       "      <td>10.5</td>\n",
       "      <td>0.9</td>\n",
       "      <td>12.4</td>\n",
       "      <td>0.8</td>\n",
       "      <td>0.9</td>\n",
       "      <td>22.5</td>\n",
       "    </tr>\n",
       "    <tr>\n",
       "      <th>All 8th graders</th>\n",
       "      <td>7.3</td>\n",
       "      <td>3.4</td>\n",
       "      <td>2.6</td>\n",
       "      <td>0.3</td>\n",
       "      <td>6.2</td>\n",
       "      <td>1.8</td>\n",
       "      <td>0.3</td>\n",
       "      <td>5.4</td>\n",
       "    </tr>\n",
       "  </tbody>\n",
       "</table>\n",
       "</div>"
      ],
      "text/plain": [
       "Substance         Alcohol2/  Binge drinking3/  Cigarettes  Cocaine  \\\n",
       "demography                                                           \n",
       "All 10th graders       19.9               9.7         4.9      0.4   \n",
       "All 12th graders       33.2              15.5        10.5      0.9   \n",
       "All 8th graders         7.3               3.4         2.6      0.3   \n",
       "\n",
       "Substance         E-cigarettes  Inhalants  MDMA (Ecstasy)1/  Marijuana  \n",
       "demography                                                              \n",
       "All 10th graders          10.3        1.0               0.5       14.0  \n",
       "All 12th graders          12.4        0.8               0.9       22.5  \n",
       "All 8th graders            6.2        1.8               0.3        5.4  "
      ]
     },
     "execution_count": 6,
     "metadata": {},
     "output_type": "execute_result"
    }
   ],
   "source": [
    "#create dataframe by grade level\n",
    "grade_level = group_test\n",
    "grade_level=grade_level.set_index('demography')\n",
    "\n",
    "#delete unwanted rows\n",
    "grade_level = grade_level.drop(['Female','Male','White','Black or African American'])\n",
    "\n",
    "#rearrange data grouping by substance\n",
    "grade_level.reset_index()\n",
    "substance_bygrade = grade_level.pivot_table(index='demography',\n",
    "                                     columns='Substance',\n",
    "                                     values = '2016')\n",
    "substance_bygrade\n",
    "\n",
    "    \n",
    "\n"
   ]
  },
  {
   "cell_type": "markdown",
   "metadata": {},
   "source": [
    "### Graph the substance by grade"
   ]
  },
  {
   "cell_type": "code",
   "execution_count": 25,
   "metadata": {},
   "outputs": [
    {
     "data": {
      "text/plain": [
       "<function matplotlib.pyplot.show(*args, **kw)>"
      ]
     },
     "execution_count": 25,
     "metadata": {},
     "output_type": "execute_result"
    },
    {
     "data": {
      "image/png": "[encoded data removed]",
      "text/plain": [
       "<Figure size 432x288 with 1 Axes>"
      ]
     },
     "metadata": {
      "needs_background": "light"
     },
     "output_type": "display_data"
    }
   ],
   "source": [
    "x = substance_bygrade.index\n",
    "y_alcohol = substance_bygrade['Alcohol2/']\n",
    "y_marijuana = substance_bygrade['Marijuana']\n",
    "y_bingedrinking = substance_bygrade['Binge drinking3/']\n",
    "y_ecigarette = substance_bygrade['E-cigarettes']\n",
    "_X = np.arange(len(x))\n",
    "\n",
    "width =.2\n",
    "plt.ylabel('Percentage')\n",
    "plt.title('2016 Substance Abuse Survey by Grade Level')\n",
    "plt.xticks(_X + width / 5, ('10th Grade','12th Grade','9th Grade'))\n",
    "\n",
    "plt.bar(_X, y_alcohol,width, color='c',label='Alcohol')\n",
    "plt.bar(_X + width, y_marijuana,width, color='g', label='Marijuana')\n",
    "plt.bar(_X - width, y_bingedrinking,width, color='r', label='Binge Drinking')\n",
    "plt.bar(_X-2*(width), y_ecigarette,width, color='y', label='E-Cigarettes')\n",
    "\n",
    "plt.legend(loc='best')\n",
    "\n",
    "plt.show\n"
   ]
  },
  {
   "cell_type": "code",
   "execution_count": null,
   "metadata": {},
   "outputs": [],
   "source": []
  },
  {
   "cell_type": "markdown",
   "metadata": {},
   "source": [
    "### Graph by Sex"
   ]
  },
  {
   "cell_type": "code",
   "execution_count": 13,
   "metadata": {},
   "outputs": [
    {
     "data": {
      "text/html": [
       "<div>\n",
       "<style scoped>\n",
       "    .dataframe tbody tr th:only-of-type {\n",
       "        vertical-align: middle;\n",
       "    }\n",
       "\n",
       "    .dataframe tbody tr th {\n",
       "        vertical-align: top;\n",
       "    }\n",
       "\n",
       "    .dataframe thead th {\n",
       "        text-align: right;\n",
       "    }\n",
       "</style>\n",
       "<table border=\"1\" class=\"dataframe\">\n",
       "  <thead>\n",
       "    <tr style=\"text-align: right;\">\n",
       "      <th>Substance</th>\n",
       "      <th>Alcohol2/</th>\n",
       "      <th>Binge drinking3/</th>\n",
       "      <th>Cigarettes</th>\n",
       "      <th>Cocaine</th>\n",
       "      <th>E-cigarettes</th>\n",
       "      <th>Inhalants</th>\n",
       "      <th>MDMA (Ecstasy)1/</th>\n",
       "      <th>Marijuana</th>\n",
       "    </tr>\n",
       "    <tr>\n",
       "      <th>demography</th>\n",
       "      <th></th>\n",
       "      <th></th>\n",
       "      <th></th>\n",
       "      <th></th>\n",
       "      <th></th>\n",
       "      <th></th>\n",
       "      <th></th>\n",
       "      <th></th>\n",
       "    </tr>\n",
       "  </thead>\n",
       "  <tbody>\n",
       "    <tr>\n",
       "      <th>All 10th graders</th>\n",
       "      <td>19.900000</td>\n",
       "      <td>9.700000</td>\n",
       "      <td>4.900000</td>\n",
       "      <td>0.400000</td>\n",
       "      <td>10.300000</td>\n",
       "      <td>1.000000</td>\n",
       "      <td>0.500000</td>\n",
       "      <td>14.000000</td>\n",
       "    </tr>\n",
       "    <tr>\n",
       "      <th>All 12th graders</th>\n",
       "      <td>33.200000</td>\n",
       "      <td>15.500000</td>\n",
       "      <td>10.500000</td>\n",
       "      <td>0.900000</td>\n",
       "      <td>12.400000</td>\n",
       "      <td>0.800000</td>\n",
       "      <td>0.900000</td>\n",
       "      <td>22.500000</td>\n",
       "    </tr>\n",
       "    <tr>\n",
       "      <th>All 8th graders</th>\n",
       "      <td>7.300000</td>\n",
       "      <td>3.400000</td>\n",
       "      <td>2.600000</td>\n",
       "      <td>0.300000</td>\n",
       "      <td>6.200000</td>\n",
       "      <td>1.800000</td>\n",
       "      <td>0.300000</td>\n",
       "      <td>5.400000</td>\n",
       "    </tr>\n",
       "    <tr>\n",
       "      <th>Black or African American</th>\n",
       "      <td>12.900000</td>\n",
       "      <td>5.066667</td>\n",
       "      <td>3.033333</td>\n",
       "      <td>0.366667</td>\n",
       "      <td>4.700000</td>\n",
       "      <td>1.300000</td>\n",
       "      <td>0.533333</td>\n",
       "      <td>14.800000</td>\n",
       "    </tr>\n",
       "    <tr>\n",
       "      <th>Female</th>\n",
       "      <td>20.233333</td>\n",
       "      <td>8.966667</td>\n",
       "      <td>5.033333</td>\n",
       "      <td>0.300000</td>\n",
       "      <td>7.666667</td>\n",
       "      <td>1.300000</td>\n",
       "      <td>0.400000</td>\n",
       "      <td>12.800000</td>\n",
       "    </tr>\n",
       "    <tr>\n",
       "      <th>Male</th>\n",
       "      <td>19.933333</td>\n",
       "      <td>10.000000</td>\n",
       "      <td>6.733333</td>\n",
       "      <td>0.700000</td>\n",
       "      <td>11.466667</td>\n",
       "      <td>1.000000</td>\n",
       "      <td>0.666667</td>\n",
       "      <td>14.966667</td>\n",
       "    </tr>\n",
       "    <tr>\n",
       "      <th>White</th>\n",
       "      <td>22.566667</td>\n",
       "      <td>10.733333</td>\n",
       "      <td>7.433333</td>\n",
       "      <td>0.366667</td>\n",
       "      <td>11.233333</td>\n",
       "      <td>1.033333</td>\n",
       "      <td>0.533333</td>\n",
       "      <td>13.366667</td>\n",
       "    </tr>\n",
       "  </tbody>\n",
       "</table>\n",
       "</div>"
      ],
      "text/plain": [
       "Substance                  Alcohol2/  Binge drinking3/  Cigarettes   Cocaine  \\\n",
       "demography                                                                     \n",
       "All 10th graders           19.900000          9.700000    4.900000  0.400000   \n",
       "All 12th graders           33.200000         15.500000   10.500000  0.900000   \n",
       "All 8th graders             7.300000          3.400000    2.600000  0.300000   \n",
       "Black or African American  12.900000          5.066667    3.033333  0.366667   \n",
       "Female                     20.233333          8.966667    5.033333  0.300000   \n",
       "Male                       19.933333         10.000000    6.733333  0.700000   \n",
       "White                      22.566667         10.733333    7.433333  0.366667   \n",
       "\n",
       "Substance                  E-cigarettes  Inhalants  MDMA (Ecstasy)1/  \\\n",
       "demography                                                             \n",
       "All 10th graders              10.300000   1.000000          0.500000   \n",
       "All 12th graders              12.400000   0.800000          0.900000   \n",
       "All 8th graders                6.200000   1.800000          0.300000   \n",
       "Black or African American      4.700000   1.300000          0.533333   \n",
       "Female                         7.666667   1.300000          0.400000   \n",
       "Male                          11.466667   1.000000          0.666667   \n",
       "White                         11.233333   1.033333          0.533333   \n",
       "\n",
       "Substance                  Marijuana  \n",
       "demography                            \n",
       "All 10th graders           14.000000  \n",
       "All 12th graders           22.500000  \n",
       "All 8th graders             5.400000  \n",
       "Black or African American  14.800000  \n",
       "Female                     12.800000  \n",
       "Male                       14.966667  \n",
       "White                      13.366667  "
      ]
     },
     "execution_count": 13,
     "metadata": {},
     "output_type": "execute_result"
    }
   ],
   "source": [
    "group_summary=group_test.pivot_table(index='demography',\n",
    "                                     columns='Substance',\n",
    "                                     values = '2016')\n",
    "group_summary"
   ]
  },
  {
   "cell_type": "code",
   "execution_count": 26,
   "metadata": {},
   "outputs": [
    {
     "data": {
      "text/plain": [
       "<function matplotlib.pyplot.show(*args, **kw)>"
      ]
     },
     "execution_count": 26,
     "metadata": {},
     "output_type": "execute_result"
    },
    {
     "data": {
      "image/png": "[encoded data removed]",
      "text/plain": [
       "<Figure size 432x288 with 1 Axes>"
      ]
     },
     "metadata": {
      "needs_background": "light"
     },
     "output_type": "display_data"
    }
   ],
   "source": [
    "group_by_sex = group_summary.drop(['All 10th graders','All 12th graders','All 8th graders','Black or African American','White'])\n",
    "\n",
    "x = group_by_sex.index\n",
    "y_alcohol = group_by_sex['Alcohol2/']\n",
    "y_marijuana = group_by_sex['Marijuana']\n",
    "y_bingedrinking = group_by_sex['Binge drinking3/']\n",
    "y_ecigarette = group_by_sex['E-cigarettes']\n",
    "_X = np.arange(len(x))\n",
    "\n",
    "width =.2\n",
    "plt.ylabel('Percentage')\n",
    "plt.title('2016 Substance Use Survey by Sex')\n",
    "plt.xticks(_X + width / 2, ('Men','Women'))\n",
    "\n",
    "plt.bar(_X, y_alcohol,width, color='c',label='Alcohol')\n",
    "plt.bar(_X + width, y_marijuana,width, color='g', label='Marijuana')\n",
    "plt.bar(_X - width, y_bingedrinking,width, color='r', label='Binge Drinking')\n",
    "plt.bar(_X-2*(width), y_ecigarette,width, color='y', label='E-Cigarettes')\n",
    "\n",
    "plt.legend(loc='best')\n",
    "plt.grid()\n",
    "\n",
    "plt.show"
   ]
  },
  {
   "cell_type": "markdown",
   "metadata": {},
   "source": [
    "### Graph by Race "
   ]
  },
  {
   "cell_type": "code",
   "execution_count": 30,
   "metadata": {},
   "outputs": [
    {
     "data": {
      "text/plain": [
       "<function matplotlib.pyplot.show(*args, **kw)>"
      ]
     },
     "execution_count": 30,
     "metadata": {},
     "output_type": "execute_result"
    },
    {
     "data": {
      "image/png": "[encoded data removed]",
      "text/plain": [
       "<Figure size 432x288 with 1 Axes>"
      ]
     },
     "metadata": {
      "needs_background": "light"
     },
     "output_type": "display_data"
    }
   ],
   "source": [
    "group_by_race = group_summary.drop(['All 10th graders','All 12th graders','All 8th graders','Male','Female'])\n",
    "\n",
    "x = group_by_race.index\n",
    "y_alcohol = group_by_race['Alcohol2/']\n",
    "y_marijuana = group_by_race['Marijuana']\n",
    "y_bingedrinking = group_by_race['Binge drinking3/']\n",
    "y_ecigarette = group_by_race['E-cigarettes']\n",
    "_X = np.arange(len(x))\n",
    "\n",
    "width =.2\n",
    "plt.ylabel('Percentage')\n",
    "plt.title('2016 Substance Use Survey by Race')\n",
    "plt.xticks(_X + width / 2, ('Black or African American','White'))\n",
    "\n",
    "plt.bar(_X, y_alcohol,width, color='c',label='Alcohol')\n",
    "plt.bar(_X + width, y_marijuana,width, color='g', label='Marijuana')\n",
    "plt.bar(_X - width, y_bingedrinking,width, color='r', label='Binge Drinking')\n",
    "plt.bar(_X-2*(width), y_ecigarette,width, color='y', label='E-Cigarettes')\n",
    "\n",
    "plt.legend(loc='best')\n",
    "plt.grid()\n",
    "\n",
    "plt.show"
   ]
  },
  {
   "cell_type": "markdown",
   "metadata": {},
   "source": [
    "### ACCIDENTAL DEATHS DUE TO SUBSTANCE"
   ]
  },
  {
   "cell_type": "code",
   "execution_count": null,
   "metadata": {},
   "outputs": [],
   "source": []
  },
  {
   "cell_type": "code",
   "execution_count": null,
   "metadata": {},
   "outputs": [],
   "source": [
    "df1.head()"
   ]
  },
  {
   "cell_type": "code",
   "execution_count": null,
   "metadata": {},
   "outputs": [],
   "source": [
    "group_test1 = df1[['Sex','Tramad','Morphine_NotHeroin','Age']]\n",
    "group_test1.head()"
   ]
  },
  {
   "cell_type": "code",
   "execution_count": null,
   "metadata": {},
   "outputs": [],
   "source": [
    "#create dataframe by sex\n",
    "sex = group_test1\n",
    "sex=sex.set_index('Sex')\n",
    "\n",
    "#delete unwanted rows\n",
    "#sex = sex.drop(['NaN'])\n",
    "\n",
    "#rearrange data grouping by substance\n",
    "sex.reset_index()\n",
    "substance_bysex = sex.pivot_table(index='Sex',\n",
    "                                     columns='Tramad',\n",
    "                                     values = 'Age')\n",
    "substance_bysex"
   ]
  },
  {
   "cell_type": "code",
   "execution_count": null,
   "metadata": {},
   "outputs": [],
   "source": [
    "x = substance_bysex.index\n",
    "y_age = substance_bysex['Y']\n",
    "\n",
    "\n",
    "width =.2\n",
    "plt.ylabel('Age')\n",
    "plt.title('Deaths by Age Due To Tramad Abuse')\n",
    "\n",
    "\n",
    "plt.bar(x, y_age, color='b',label='Tramad')\n",
    "\n",
    "\n",
    "plt.legend(loc='best')\n",
    "\n",
    "plt.show\n"
   ]
  },
  {
   "cell_type": "code",
   "execution_count": null,
   "metadata": {},
   "outputs": [],
   "source": []
  }
 ],
 "metadata": {
  "kernelspec": {
   "display_name": "Python 3",
   "language": "python",
   "name": "python3"
  },
  "language_info": {
   "codemirror_mode": {
    "name": "ipython",
    "version": 3
   },
   "file_extension": ".py",
   "mimetype": "text/x-python",
   "name": "python",
   "nbconvert_exporter": "python",
   "pygments_lexer": "ipython3",
   "version": "3.7.3"
  }
 },
 "nbformat": 4,
 "nbformat_minor": 2
}
