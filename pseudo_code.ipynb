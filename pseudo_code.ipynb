{
 "cells": [
  {
   "cell_type": "markdown",
   "metadata": {},
   "source": [
    "###PSUEDO CODE - Team 5"
   ]
  },
  {
   "cell_type": "code",
   "execution_count": 26,
   "metadata": {},
   "outputs": [],
   "source": [
    "import pandas as pd\n",
    "import numpy as np\n",
    "import requests\n",
    "import matplotlib.pyplot as plt"
   ]
  },
  {
   "cell_type": "markdown",
   "metadata": {},
   "source": [
    "### READ DATA"
   ]
  },
  {
   "cell_type": "code",
   "execution_count": 27,
   "metadata": {},
   "outputs": [],
   "source": [
    "df = pd.read_csv('table051_reduced.csv', encoding=\"UTF-8\")"
   ]
  },
  {
   "cell_type": "markdown",
   "metadata": {},
   "source": [
    "### DATA MERGING"
   ]
  },
  {
   "cell_type": "code",
   "execution_count": 28,
   "metadata": {},
   "outputs": [
    {
     "data": {
      "text/html": [
       "<div>\n",
       "<style scoped>\n",
       "    .dataframe tbody tr th:only-of-type {\n",
       "        vertical-align: middle;\n",
       "    }\n",
       "\n",
       "    .dataframe tbody tr th {\n",
       "        vertical-align: top;\n",
       "    }\n",
       "\n",
       "    .dataframe thead th {\n",
       "        text-align: right;\n",
       "    }\n",
       "</style>\n",
       "<table border=\"1\" class=\"dataframe\">\n",
       "  <thead>\n",
       "    <tr style=\"text-align: right;\">\n",
       "      <th></th>\n",
       "      <th>demography</th>\n",
       "      <th>Substance</th>\n",
       "      <th>1980</th>\n",
       "      <th>1981</th>\n",
       "      <th>1982</th>\n",
       "      <th>1983</th>\n",
       "      <th>1984</th>\n",
       "      <th>1985</th>\n",
       "      <th>1986</th>\n",
       "      <th>1987</th>\n",
       "      <th>...</th>\n",
       "      <th>2007</th>\n",
       "      <th>2008</th>\n",
       "      <th>2009</th>\n",
       "      <th>2010</th>\n",
       "      <th>2011</th>\n",
       "      <th>2012</th>\n",
       "      <th>2013</th>\n",
       "      <th>2014</th>\n",
       "      <th>2015</th>\n",
       "      <th>2016</th>\n",
       "    </tr>\n",
       "  </thead>\n",
       "  <tbody>\n",
       "    <tr>\n",
       "      <th>0</th>\n",
       "      <td>All 12th graders</td>\n",
       "      <td>Cigarettes</td>\n",
       "      <td>30.5</td>\n",
       "      <td>29.4</td>\n",
       "      <td>30</td>\n",
       "      <td>30.3</td>\n",
       "      <td>29.3</td>\n",
       "      <td>30.1</td>\n",
       "      <td>29.6</td>\n",
       "      <td>29.4</td>\n",
       "      <td>...</td>\n",
       "      <td>21.6</td>\n",
       "      <td>20.4</td>\n",
       "      <td>20.1</td>\n",
       "      <td>19.2</td>\n",
       "      <td>18.7</td>\n",
       "      <td>17.1</td>\n",
       "      <td>16.3</td>\n",
       "      <td>13.6</td>\n",
       "      <td>11.4</td>\n",
       "      <td>10.5</td>\n",
       "    </tr>\n",
       "    <tr>\n",
       "      <th>1</th>\n",
       "      <td>Male</td>\n",
       "      <td>Cigarettes</td>\n",
       "      <td>26.8</td>\n",
       "      <td>26.5</td>\n",
       "      <td>26.8</td>\n",
       "      <td>28</td>\n",
       "      <td>25.9</td>\n",
       "      <td>28.2</td>\n",
       "      <td>27.9</td>\n",
       "      <td>27</td>\n",
       "      <td>...</td>\n",
       "      <td>23.1</td>\n",
       "      <td>21.5</td>\n",
       "      <td>22.1</td>\n",
       "      <td>21.9</td>\n",
       "      <td>21.5</td>\n",
       "      <td>19.3</td>\n",
       "      <td>18.4</td>\n",
       "      <td>15.2</td>\n",
       "      <td>13.0</td>\n",
       "      <td>12.7</td>\n",
       "    </tr>\n",
       "    <tr>\n",
       "      <th>2</th>\n",
       "      <td>Female</td>\n",
       "      <td>Cigarettes</td>\n",
       "      <td>33.4</td>\n",
       "      <td>31.6</td>\n",
       "      <td>32.6</td>\n",
       "      <td>31.6</td>\n",
       "      <td>31.9</td>\n",
       "      <td>31.4</td>\n",
       "      <td>30.6</td>\n",
       "      <td>31.4</td>\n",
       "      <td>...</td>\n",
       "      <td>19.6</td>\n",
       "      <td>19.1</td>\n",
       "      <td>17.6</td>\n",
       "      <td>15.7</td>\n",
       "      <td>15.1</td>\n",
       "      <td>14.5</td>\n",
       "      <td>13.2</td>\n",
       "      <td>11.6</td>\n",
       "      <td>9.1</td>\n",
       "      <td>8.1</td>\n",
       "    </tr>\n",
       "    <tr>\n",
       "      <th>3</th>\n",
       "      <td>White</td>\n",
       "      <td>Cigarettes</td>\n",
       "      <td>31</td>\n",
       "      <td>30.1</td>\n",
       "      <td>31.3</td>\n",
       "      <td>31.3</td>\n",
       "      <td>31</td>\n",
       "      <td>31.7</td>\n",
       "      <td>32</td>\n",
       "      <td>32.2</td>\n",
       "      <td>...</td>\n",
       "      <td>25.2</td>\n",
       "      <td>24.1</td>\n",
       "      <td>23.7</td>\n",
       "      <td>22.2</td>\n",
       "      <td>22.2</td>\n",
       "      <td>20.1</td>\n",
       "      <td>18.5</td>\n",
       "      <td>16.5</td>\n",
       "      <td>13.4</td>\n",
       "      <td>13.0</td>\n",
       "    </tr>\n",
       "    <tr>\n",
       "      <th>4</th>\n",
       "      <td>Black or African American</td>\n",
       "      <td>Cigarettes</td>\n",
       "      <td>25.2</td>\n",
       "      <td>22.3</td>\n",
       "      <td>21.2</td>\n",
       "      <td>21.2</td>\n",
       "      <td>17.6</td>\n",
       "      <td>18.7</td>\n",
       "      <td>14.6</td>\n",
       "      <td>13.9</td>\n",
       "      <td>...</td>\n",
       "      <td>10.6</td>\n",
       "      <td>10.1</td>\n",
       "      <td>9.3</td>\n",
       "      <td>10.7</td>\n",
       "      <td>8.7</td>\n",
       "      <td>8.4</td>\n",
       "      <td>10.8</td>\n",
       "      <td>7.5</td>\n",
       "      <td>6.4</td>\n",
       "      <td>5.5</td>\n",
       "    </tr>\n",
       "  </tbody>\n",
       "</table>\n",
       "<p>5 rows × 39 columns</p>\n",
       "</div>"
      ],
      "text/plain": [
       "                  demography   Substance  1980  1981  1982  1983  1984  1985  \\\n",
       "0           All 12th graders  Cigarettes  30.5  29.4    30  30.3  29.3  30.1   \n",
       "1                       Male  Cigarettes  26.8  26.5  26.8    28  25.9  28.2   \n",
       "2                     Female  Cigarettes  33.4  31.6  32.6  31.6  31.9  31.4   \n",
       "3                      White  Cigarettes    31  30.1  31.3  31.3    31  31.7   \n",
       "4  Black or African American  Cigarettes  25.2  22.3  21.2  21.2  17.6  18.7   \n",
       "\n",
       "   1986  1987  ...  2007  2008  2009  2010  2011  2012  2013  2014  2015  2016  \n",
       "0  29.6  29.4  ...  21.6  20.4  20.1  19.2  18.7  17.1  16.3  13.6  11.4  10.5  \n",
       "1  27.9    27  ...  23.1  21.5  22.1  21.9  21.5  19.3  18.4  15.2  13.0  12.7  \n",
       "2  30.6  31.4  ...  19.6  19.1  17.6  15.7  15.1  14.5  13.2  11.6   9.1   8.1  \n",
       "3    32  32.2  ...  25.2  24.1  23.7  22.2  22.2  20.1  18.5  16.5  13.4  13.0  \n",
       "4  14.6  13.9  ...  10.6  10.1   9.3  10.7   8.7   8.4  10.8   7.5   6.4   5.5  \n",
       "\n",
       "[5 rows x 39 columns]"
      ]
     },
     "execution_count": 28,
     "metadata": {},
     "output_type": "execute_result"
    }
   ],
   "source": [
    "df.head()\n"
   ]
  },
  {
   "cell_type": "code",
   "execution_count": 4,
   "metadata": {},
   "outputs": [
    {
     "data": {
      "text/plain": [
       "Index(['demography', 'Substance', '1980', '1981', '1982', '1983', '1984',\n",
       "       '1985', '1986', '1987', '1988', '1989', '1990', '1991', '1992', '1993',\n",
       "       '1994', '1995', '1996', '1997', '1998', '1999', '2000', '2001', '2002',\n",
       "       '2003', '2004', '2005', '2006', '2007', '2008', '2009', '2010', '2011',\n",
       "       '2012', '2013', '2014', '2015', '2016'],\n",
       "      dtype='object')"
      ]
     },
     "execution_count": 4,
     "metadata": {},
     "output_type": "execute_result"
    }
   ],
   "source": [
    "df.c\n"
   ]
  },
  {
   "cell_type": "code",
   "execution_count": 29,
   "metadata": {},
   "outputs": [
    {
     "ename": "TypeError",
     "evalue": "'Series' object is not callable",
     "output_type": "error",
     "traceback": [
      "\u001b[1;31m---------------------------------------------------------------------------\u001b[0m",
      "\u001b[1;31mTypeError\u001b[0m                                 Traceback (most recent call last)",
      "\u001b[1;32m<ipython-input-29-f851b493a529>\u001b[0m in \u001b[0;36m<module>\u001b[1;34m\u001b[0m\n\u001b[1;32m----> 1\u001b[1;33m \u001b[0mgroup_test\u001b[0m\u001b[1;33m.\u001b[0m\u001b[0mdtypes\u001b[0m\u001b[1;33m(\u001b[0m\u001b[1;33m)\u001b[0m\u001b[1;33m\u001b[0m\u001b[1;33m\u001b[0m\u001b[0m\n\u001b[0m",
      "\u001b[1;31mTypeError\u001b[0m: 'Series' object is not callable"
     ]
    }
   ],
   "source": [
    "group_test.dtypes()\n"
   ]
  },
  {
   "cell_type": "code",
   "execution_count": 42,
   "metadata": {},
   "outputs": [
    {
     "data": {
      "text/html": [
       "<div>\n",
       "<style scoped>\n",
       "    .dataframe tbody tr th:only-of-type {\n",
       "        vertical-align: middle;\n",
       "    }\n",
       "\n",
       "    .dataframe tbody tr th {\n",
       "        vertical-align: top;\n",
       "    }\n",
       "\n",
       "    .dataframe thead th {\n",
       "        text-align: right;\n",
       "    }\n",
       "</style>\n",
       "<table border=\"1\" class=\"dataframe\">\n",
       "  <thead>\n",
       "    <tr style=\"text-align: right;\">\n",
       "      <th></th>\n",
       "      <th>demography</th>\n",
       "      <th>Substance</th>\n",
       "      <th>2016</th>\n",
       "    </tr>\n",
       "  </thead>\n",
       "  <tbody>\n",
       "    <tr>\n",
       "      <th>0</th>\n",
       "      <td>All 12th graders</td>\n",
       "      <td>Cigarettes</td>\n",
       "      <td>10.5</td>\n",
       "    </tr>\n",
       "    <tr>\n",
       "      <th>1</th>\n",
       "      <td>Male</td>\n",
       "      <td>Cigarettes</td>\n",
       "      <td>12.7</td>\n",
       "    </tr>\n",
       "    <tr>\n",
       "      <th>2</th>\n",
       "      <td>Female</td>\n",
       "      <td>Cigarettes</td>\n",
       "      <td>8.1</td>\n",
       "    </tr>\n",
       "    <tr>\n",
       "      <th>3</th>\n",
       "      <td>White</td>\n",
       "      <td>Cigarettes</td>\n",
       "      <td>13.0</td>\n",
       "    </tr>\n",
       "    <tr>\n",
       "      <th>4</th>\n",
       "      <td>Black or African American</td>\n",
       "      <td>Cigarettes</td>\n",
       "      <td>5.5</td>\n",
       "    </tr>\n",
       "  </tbody>\n",
       "</table>\n",
       "</div>"
      ],
      "text/plain": [
       "                  demography   Substance  2016\n",
       "0           All 12th graders  Cigarettes  10.5\n",
       "1                       Male  Cigarettes  12.7\n",
       "2                     Female  Cigarettes   8.1\n",
       "3                      White  Cigarettes  13.0\n",
       "4  Black or African American  Cigarettes   5.5"
      ]
     },
     "execution_count": 42,
     "metadata": {},
     "output_type": "execute_result"
    }
   ],
   "source": [
    "#drop_df = df.dropna(how='any')\n",
    "group_test = df[['demography','Substance','2016']]\n",
    "group_test.head()\n"
   ]
  },
  {
   "cell_type": "code",
   "execution_count": null,
   "metadata": {},
   "outputs": [],
   "source": []
  },
  {
   "cell_type": "code",
   "execution_count": 41,
   "metadata": {},
   "outputs": [
    {
     "data": {
      "text/plain": [
       "<function matplotlib.pyplot.show(*args, **kw)>"
      ]
     },
     "execution_count": 41,
     "metadata": {},
     "output_type": "execute_result"
    },
    {
     "data": {
      "image/png": "[encoded data removed]",
      "text/plain": [
       "<Figure size 432x288 with 1 Axes>"
      ]
     },
     "metadata": {
      "needs_background": "light"
     },
     "output_type": "display_data"
    }
   ],
   "source": [
    "xvalue = group_test['demography']\n",
    "y_cigarette = group_test['2016']\n",
    "plt.xlabel('Substance')\n",
    "plt.ylabel('2016')\n",
    "plt.bar(xvalue,yvalue)\n",
    "plt.show"
   ]
  },
  {
   "cell_type": "code",
   "execution_count": null,
   "metadata": {},
   "outputs": [],
   "source": []
  }
 ],
 "metadata": {
  "kernelspec": {
   "display_name": "Python 3",
   "language": "python",
   "name": "python3"
  },
  "language_info": {
   "codemirror_mode": {
    "name": "ipython",
    "version": 3
   },
   "file_extension": ".py",
   "mimetype": "text/x-python",
   "name": "python",
   "nbconvert_exporter": "python",
   "pygments_lexer": "ipython3",
   "version": "3.7.3"
  }
 },
 "nbformat": 4,
 "nbformat_minor": 2
}
